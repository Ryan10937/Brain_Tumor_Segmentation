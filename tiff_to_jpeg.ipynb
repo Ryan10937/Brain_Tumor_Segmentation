{
 "cells": [
  {
   "cell_type": "markdown",
   "id": "6e332542-c0b0-42e2-b460-a76f1b34b31e",
   "metadata": {},
   "source": [
    "This is a temp file to change the filetype of the brain_tumor_segmentation dataset from .tif to a .jpeg because tensorflow cannot use .tifs"
   ]
  },
  {
   "cell_type": "code",
   "execution_count": 3,
   "id": "5f83829a-5e4f-4ba3-b58b-f65fec797f06",
   "metadata": {
    "tags": []
   },
   "outputs": [],
   "source": [
    "import os\n",
    "from PIL import Image\n",
    "\n",
    "in_path = 'C:/Link_to_D_drive/datasets/Brain_Tumor_MRI_Segmentation/kaggle_3m'\n",
    "out_path =  'C:/Link_to_D_drive/datasets/Brain_Tumor_MRI_Segmentation/kaggle_3m_jpeg'\n",
    "os.makedirs(out_path,exist_ok=True)\n",
    "for root,dirs,files in os.walk(in_path):\n",
    "  if len(files) == 0:\n",
    "    continue\n",
    "  for file in files:\n",
    "    im = Image.open(os.path.join(root,file))\n",
    "    im = im.resize((224,224))\n",
    "    im.save(os.path.join(out_path,file.replace(\".tif\",\".jpeg\")),\"JPEG\")\n"
   ]
  },
  {
   "cell_type": "code",
   "execution_count": 2,
   "id": "1a0e628e-6667-41ee-a747-bab5b96f3c9e",
   "metadata": {},
   "outputs": [
    {
     "name": "stdout",
     "output_type": "stream",
     "text": [
      "(256, 256)\n"
     ]
    }
   ],
   "source": [
    "print(im.size)"
   ]
  },
  {
   "cell_type": "code",
   "execution_count": null,
   "id": "57f39d9f-0793-4498-bfc9-4ab8d6fa4f52",
   "metadata": {},
   "outputs": [],
   "source": []
  },
  {
   "cell_type": "code",
   "execution_count": null,
   "id": "cd4441f5-0010-4559-819a-6db4cba213fd",
   "metadata": {},
   "outputs": [],
   "source": []
  },
  {
   "cell_type": "code",
   "execution_count": null,
   "id": "52da963a-34e8-4a68-a926-468ef669b857",
   "metadata": {},
   "outputs": [],
   "source": []
  },
  {
   "cell_type": "code",
   "execution_count": null,
   "id": "803707d8-595e-495d-9712-5747565607b2",
   "metadata": {},
   "outputs": [],
   "source": []
  },
  {
   "cell_type": "code",
   "execution_count": null,
   "id": "ebdf170e-aac9-4cac-9599-239e8cf8be02",
   "metadata": {},
   "outputs": [],
   "source": []
  },
  {
   "cell_type": "code",
   "execution_count": null,
   "id": "b8346193-fe86-4a3e-b761-5cce6a0f9ed7",
   "metadata": {},
   "outputs": [],
   "source": []
  },
  {
   "cell_type": "code",
   "execution_count": null,
   "id": "e05d3ac6-bbda-4221-8340-ee0843e2e18a",
   "metadata": {},
   "outputs": [],
   "source": []
  },
  {
   "cell_type": "code",
   "execution_count": null,
   "id": "d83b0fed-e4aa-40c7-b488-b16fa527c47c",
   "metadata": {},
   "outputs": [],
   "source": []
  }
 ],
 "metadata": {
  "kernelspec": {
   "display_name": "Python 3 (ipykernel)",
   "language": "python",
   "name": "python3"
  },
  "language_info": {
   "codemirror_mode": {
    "name": "ipython",
    "version": 3
   },
   "file_extension": ".py",
   "mimetype": "text/x-python",
   "name": "python",
   "nbconvert_exporter": "python",
   "pygments_lexer": "ipython3",
   "version": "3.9.7"
  }
 },
 "nbformat": 4,
 "nbformat_minor": 5
}
